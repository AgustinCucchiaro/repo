{
  "nbformat": 4,
  "nbformat_minor": 0,
  "metadata": {
    "colab": {
      "provenance": []
    },
    "kernelspec": {
      "name": "python3",
      "display_name": "Python 3"
    },
    "language_info": {
      "name": "python"
    }
  },
  "cells": [
    {
      "cell_type": "code",
      "metadata": {
        "id": "ijk0AST7G-F7",
        "colab": {
          "base_uri": "https://localhost:8080/"
        },
        "outputId": "cb37971b-af44-4410-fbc1-323b927f6709"
      },
      "source": [
        "pip install yfinance"
      ],
      "execution_count": null,
      "outputs": [
        {
          "output_type": "stream",
          "text": [
            "Collecting yfinance\n",
            "  Downloading yfinance-0.1.63.tar.gz (26 kB)\n",
            "Requirement already satisfied: pandas>=0.24 in /usr/local/lib/python3.7/dist-packages (from yfinance) (1.1.5)\n",
            "Requirement already satisfied: numpy>=1.15 in /usr/local/lib/python3.7/dist-packages (from yfinance) (1.19.5)\n",
            "Requirement already satisfied: requests>=2.20 in /usr/local/lib/python3.7/dist-packages (from yfinance) (2.23.0)\n",
            "Requirement already satisfied: multitasking>=0.0.7 in /usr/local/lib/python3.7/dist-packages (from yfinance) (0.0.9)\n",
            "Collecting lxml>=4.5.1\n",
            "  Downloading lxml-4.6.3-cp37-cp37m-manylinux2014_x86_64.whl (6.3 MB)\n",
            "\u001b[K     |████████████████████████████████| 6.3 MB 11.0 MB/s \n",
            "\u001b[?25hRequirement already satisfied: pytz>=2017.2 in /usr/local/lib/python3.7/dist-packages (from pandas>=0.24->yfinance) (2018.9)\n",
            "Requirement already satisfied: python-dateutil>=2.7.3 in /usr/local/lib/python3.7/dist-packages (from pandas>=0.24->yfinance) (2.8.1)\n",
            "Requirement already satisfied: six>=1.5 in /usr/local/lib/python3.7/dist-packages (from python-dateutil>=2.7.3->pandas>=0.24->yfinance) (1.15.0)\n",
            "Requirement already satisfied: idna<3,>=2.5 in /usr/local/lib/python3.7/dist-packages (from requests>=2.20->yfinance) (2.10)\n",
            "Requirement already satisfied: urllib3!=1.25.0,!=1.25.1,<1.26,>=1.21.1 in /usr/local/lib/python3.7/dist-packages (from requests>=2.20->yfinance) (1.24.3)\n",
            "Requirement already satisfied: certifi>=2017.4.17 in /usr/local/lib/python3.7/dist-packages (from requests>=2.20->yfinance) (2021.5.30)\n",
            "Requirement already satisfied: chardet<4,>=3.0.2 in /usr/local/lib/python3.7/dist-packages (from requests>=2.20->yfinance) (3.0.4)\n",
            "Building wheels for collected packages: yfinance\n",
            "  Building wheel for yfinance (setup.py) ... \u001b[?25l\u001b[?25hdone\n",
            "  Created wheel for yfinance: filename=yfinance-0.1.63-py2.py3-none-any.whl size=23919 sha256=46d89f4a73d422fa7758f717d18c7ed85c262fbd6cc9a963a90f023ac55b8c2b\n",
            "  Stored in directory: /root/.cache/pip/wheels/fe/87/8b/7ec24486e001d3926537f5f7801f57a74d181be25b11157983\n",
            "Successfully built yfinance\n",
            "Installing collected packages: lxml, yfinance\n",
            "  Attempting uninstall: lxml\n",
            "    Found existing installation: lxml 4.2.6\n",
            "    Uninstalling lxml-4.2.6:\n",
            "      Successfully uninstalled lxml-4.2.6\n",
            "Successfully installed lxml-4.6.3 yfinance-0.1.63\n"
          ],
          "name": "stdout"
        }
      ]
    },
    {
      "cell_type": "code",
      "metadata": {
        "id": "3pUDXiDaTqGF"
      },
      "source": [
        "import yfinance as yf\n",
        "import numpy as np\n",
        "import pandas as pd\n",
        "import datetime as dt\n",
        "import matplotlib.pyplot as plt\n",
        "from scipy.stats import norm\n",
        "import scipy.stats as scs"
      ],
      "execution_count": null,
      "outputs": []
    },
    {
      "cell_type": "code",
      "metadata": {
        "id": "n-2euCdzTy7V"
      },
      "source": [
        "tickers = [\"AAPL\", \"FB\", \"C\", \"DIS\",\"F\",\"MSFT\",\"MS\",\"GM\",\"TSLA\",\"AMZN\"]\n",
        "weights = np.array([.1,.1,.1,.1,.1,.1,.1,.1,.1,.1])"
      ],
      "execution_count": null,
      "outputs": []
    },
    {
      "cell_type": "code",
      "metadata": {
        "colab": {
          "base_uri": "https://localhost:8080/"
        },
        "id": "3Bw4nZiuUQtO",
        "outputId": "4633d8a3-1fab-4a03-93a2-1f88b280738d"
      },
      "source": [
        "start = dt.datetime(2019,1,1)\n",
        "end = dt.datetime.now()\n",
        "\n",
        "df = yf.download(ticker, start, end)[\"Adj Close\"]\n",
        "df.head()"
      ],
      "execution_count": null,
      "outputs": [
        {
          "output_type": "stream",
          "text": [
            "\r[*********************100%***********************]  1 of 1 completed\n"
          ],
          "name": "stdout"
        },
        {
          "output_type": "execute_result",
          "data": {
            "text/plain": [
              "Date\n",
              "2021-08-04    12.40\n",
              "2021-08-05    12.98\n",
              "2021-08-06    12.87\n",
              "2021-08-09    12.81\n",
              "2021-08-10    12.87\n",
              "Name: Adj Close, dtype: float64"
            ]
          },
          "metadata": {
            "tags": []
          },
          "execution_count": 5
        }
      ]
    },
    {
      "cell_type": "code",
      "metadata": {
        "colab": {
          "base_uri": "https://localhost:8080/"
        },
        "id": "u-hKEXDgUwYw",
        "outputId": "6eb6ff83-a478-4a1a-a2ab-afc38fdc98fc"
      },
      "source": [
        "returns = df.pct_change()\n",
        "returns.head()"
      ],
      "execution_count": null,
      "outputs": [
        {
          "output_type": "execute_result",
          "data": {
            "text/plain": [
              "Date\n",
              "2019-01-02         NaN\n",
              "2019-01-03    0.009449\n",
              "2019-01-04    0.030421\n",
              "2019-01-07    0.004542\n",
              "2019-01-08    0.010550\n",
              "Name: Adj Close, dtype: float64"
            ]
          },
          "metadata": {
            "tags": []
          },
          "execution_count": 6
        }
      ]
    },
    {
      "cell_type": "code",
      "metadata": {
        "id": "ZG40Qn7VU3-1"
      },
      "source": [
        "cov_matrix = returns.cov()\n",
        "cov_matrix"
      ],
      "execution_count": null,
      "outputs": []
    },
    {
      "cell_type": "code",
      "metadata": {
        "id": "6FY2u5PhVG1O"
      },
      "source": [
        "avg_returns = returns.mean()\n",
        "avg_returns"
      ],
      "execution_count": null,
      "outputs": []
    },
    {
      "cell_type": "code",
      "metadata": {
        "colab": {
          "base_uri": "https://localhost:8080/"
        },
        "id": "-MfiggqPVR2-",
        "outputId": "18e61281-9b29-4490-ff01-f0ca0e93feb7"
      },
      "source": [
        "count = returns.count()[0]\n",
        "count "
      ],
      "execution_count": null,
      "outputs": [
        {
          "output_type": "execute_result",
          "data": {
            "text/plain": [
              "611"
            ]
          },
          "metadata": {
            "tags": []
          },
          "execution_count": 8
        }
      ]
    },
    {
      "cell_type": "code",
      "metadata": {
        "colab": {
          "base_uri": "https://localhost:8080/"
        },
        "id": "vwX8fMywVcsk",
        "outputId": "c52b027a-9c74-4e06-c81b-ae175646e5bb"
      },
      "source": [
        "port_mean = avg_returns @ weights\n",
        "port_std = np.sqrt(weights.T @ cov_matrix @ weights)\n",
        "port_mean, port_std"
      ],
      "execution_count": null,
      "outputs": [
        {
          "output_type": "execute_result",
          "data": {
            "text/plain": [
              "(0.0019172259360254375, 0.019343989766404175)"
            ]
          },
          "metadata": {
            "tags": []
          },
          "execution_count": 9
        }
      ]
    },
    {
      "cell_type": "code",
      "metadata": {
        "colab": {
          "base_uri": "https://localhost:8080/",
          "height": 282
        },
        "id": "G9bA6yW0WAI9",
        "outputId": "b31172a5-3720-449a-dafb-fdfd7248718f"
      },
      "source": [
        "x = np.arange(-0.05, 0.055, 0.001)\n",
        "norm_dist = norm.pdf(x,port_mean,port_std)\n",
        "norm_dist\n",
        "plt.plot(x, norm_dist)"
      ],
      "execution_count": null,
      "outputs": [
        {
          "output_type": "execute_result",
          "data": {
            "text/plain": [
              "[<matplotlib.lines.Line2D at 0x7fb4d6ff5150>]"
            ]
          },
          "metadata": {
            "tags": []
          },
          "execution_count": 10
        },
        {
          "output_type": "display_data",
          "data": {
            "image/png": "[encoded data removed]",
            "text/plain": [
              "<Figure size 432x288 with 1 Axes>"
            ]
          },
          "metadata": {
            "tags": [],
            "needs_background": "light"
          }
        }
      ]
    },
    {
      "cell_type": "code",
      "metadata": {
        "colab": {
          "base_uri": "https://localhost:8080/"
        },
        "id": "Gks05fwmWj5f",
        "outputId": "0f3c7472-0c31-4c85-86dc-5371eb8de28b"
      },
      "source": [
        "confidence_level = 0.05\n",
        "\n",
        "VaR = norm.ppf(confidence_level, port_mean, port_std)\n",
        "VaR"
      ],
      "execution_count": null,
      "outputs": [
        {
          "output_type": "execute_result",
          "data": {
            "text/plain": [
              "-0.029900805790956643"
            ]
          },
          "metadata": {
            "tags": []
          },
          "execution_count": 11
        }
      ]
    },
    {
      "cell_type": "code",
      "metadata": {
        "colab": {
          "base_uri": "https://localhost:8080/"
        },
        "id": "Jfvi3QYQW2d8",
        "outputId": "6b7ee8e5-722e-42b5-ab32-a400223ddaef"
      },
      "source": [
        "h = 5\n",
        "\n",
        "VaR * np.sqrt(h)"
      ],
      "execution_count": null,
      "outputs": [
        {
          "output_type": "execute_result",
          "data": {
            "text/plain": [
              "-0.06706343120437704"
            ]
          },
          "metadata": {
            "tags": []
          },
          "execution_count": 32
        }
      ]
    },
    {
      "cell_type": "code",
      "metadata": {
        "colab": {
          "base_uri": "https://localhost:8080/"
        },
        "id": "uig1uKPIW-Od",
        "outputId": "72128c19-34fb-4eee-bcd5-898984d837da"
      },
      "source": [
        "lower = port_mean - 2 * port_std/np.sqrt(count)\n",
        "higher = port_mean + 2 * port_std/np.sqrt(count)\n",
        "\n",
        "lower, higher"
      ],
      "execution_count": null,
      "outputs": [
        {
          "output_type": "execute_result",
          "data": {
            "text/plain": [
              "(0.000325974481222498, 0.0034711031663958282)"
            ]
          },
          "metadata": {
            "tags": []
          },
          "execution_count": 33
        }
      ]
    },
    {
      "cell_type": "code",
      "metadata": {
        "id": "nTkeQoDOXh__"
      },
      "source": [
        "n_sims = 1000000\n",
        "rfr = 0\n",
        "time = 30 #days\n",
        "vol = 0.25\n",
        "S0 = 1"
      ],
      "execution_count": null,
      "outputs": []
    },
    {
      "cell_type": "code",
      "metadata": {
        "id": "5RP8096AZM82"
      },
      "source": [
        "d = (rfr-0.5*vol**2) * (time/252)\n",
        "a = vol* np.sqrt(time/252)\n",
        "r = np.random.normal(0,1,(n_sims,1))\n",
        "\n",
        "GBM_returns = S0 * np.exp(d + a*r)"
      ],
      "execution_count": null,
      "outputs": []
    },
    {
      "cell_type": "code",
      "metadata": {
        "id": "mr0-UZc3Zsjn"
      },
      "source": [
        "pers =[0.01, 0.1, 1, 2.5, 5, 10]\n",
        "var = scs.scoreatpercentile(GBM_returns - 1, pers)"
      ],
      "execution_count": null,
      "outputs": []
    },
    {
      "cell_type": "code",
      "metadata": {
        "id": "wtywVy6WaBCR"
      },
      "source": [
        "df = pd.DataFrame(var, pers, columns = [\"VaR\"])"
      ],
      "execution_count": null,
      "outputs": []
    },
    {
      "cell_type": "code",
      "metadata": {
        "colab": {
          "base_uri": "https://localhost:8080/",
          "height": 280
        },
        "id": "k5eIZwx3aGXP",
        "outputId": "a267ab5e-0479-4d09-a1ac-4f7f932148dc"
      },
      "source": [
        "plt.hist(GBM_returns, density = True, bins = 100)\n",
        "\n",
        "plt.axvline(df.loc[0.01][\"VaR\"] + 1, color = \"r\", linestyle = \"dashed\", linewidth = 2)\n",
        "plt.axvline(df.loc[0.1][\"VaR\"] + 1, color = \"g\", linestyle = \"dashed\", linewidth = 2)\n",
        "plt.axvline(df.loc[0.1][\"VaR\"] + 1, color = \"b\", linestyle = \"dashed\", linewidth = 2)\n",
        "plt.axvline(df.loc[2.5][\"VaR\"] + 1, color = \"y\", linestyle = \"dashed\", linewidth = 2)\n",
        "plt.axvline(df.loc[5][\"VaR\"] + 1, color = \"c\", linestyle = \"dashed\", linewidth = 2)\n",
        "plt.axvline(df.loc[10][\"VaR\"] + 1, color = \"k\", linestyle = \"dashed\", linewidth = 2)\n",
        "\n",
        "plt.ylabel(\"Frequency\")\n",
        "plt.xlabel(\"Daily_return\")\n",
        "plt.grid(True, linewidth = 0.5)\n",
        "\n",
        "plt.show()"
      ],
      "execution_count": null,
      "outputs": [
        {
          "output_type": "display_data",
          "data": {
            "image/png": "[encoded data removed]",
            "text/plain": [
              "<Figure size 432x288 with 1 Axes>"
            ]
          },
          "metadata": {
            "tags": [],
            "needs_background": "light"
          }
        }
      ]
    }
  ]
}